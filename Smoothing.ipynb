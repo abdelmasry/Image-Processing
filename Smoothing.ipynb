{
 "cells": [
  {
   "cell_type": "markdown",
   "source": [
    "IMAGE SMOOTHING"
   ],
   "metadata": {
    "collapsed": false,
    "pycharm": {
     "name": "#%% md\n"
    }
   },
   "outputs": [
    {
     "ename": "SyntaxError",
     "evalue": "invalid syntax (291175180.py, line 1)",
     "output_type": "error",
     "traceback": [
      "\u001B[0;36m  Input \u001B[0;32mIn [1]\u001B[0;36m\u001B[0m\n\u001B[0;31m    IMAGE SMOOTHING\u001B[0m\n\u001B[0m          ^\u001B[0m\n\u001B[0;31mSyntaxError\u001B[0m\u001B[0;31m:\u001B[0m invalid syntax\n"
     ]
    }
   ],
   "execution_count": 1
  },
  {
   "cell_type": "markdown",
   "source": [
    "Using any gray scale image:\n",
    "- Add salt & pepper noise to the given image.\n",
    "- for the noisy image Apply different smoothing filters with different window size:\n",
    "    (Average, median, rank order with different ranks).\n",
    "\n",
    "Explain briefly the following questions:\n",
    "    1. Which smoothing filter removes the noise in a better way? Why?\n",
    "    2. What is the effect of changing the window size?\n",
    "    3. When utilizing the rank order filter, what is the effect of changing the rank?"
   ],
   "metadata": {
    "collapsed": false,
    "pycharm": {
     "name": "#%% md\n"
    }
   }
  },
  {
   "cell_type": "code",
   "execution_count": 1,
   "outputs": [
    {
     "ename": "ModuleNotFoundError",
     "evalue": "No module named 'cv2'",
     "output_type": "error",
     "traceback": [
      "\u001B[0;31m---------------------------------------------------------------------------\u001B[0m",
      "\u001B[0;31mModuleNotFoundError\u001B[0m                       Traceback (most recent call last)",
      "Input \u001B[0;32mIn [1]\u001B[0m, in \u001B[0;36m<module>\u001B[0;34m\u001B[0m\n\u001B[0;32m----> 1\u001B[0m \u001B[38;5;28;01mimport\u001B[39;00m \u001B[38;5;21;01mcv2\u001B[39;00m \u001B[38;5;28;01mas\u001B[39;00m \u001B[38;5;21;01mcv\u001B[39;00m\n\u001B[1;32m      2\u001B[0m \u001B[38;5;28;01mfrom\u001B[39;00m \u001B[38;5;21;01mskimage\u001B[39;00m\u001B[38;5;21;01m.\u001B[39;00m\u001B[38;5;21;01mio\u001B[39;00m \u001B[38;5;28;01mimport\u001B[39;00m imshow\n\u001B[1;32m      3\u001B[0m \u001B[38;5;28;01mfrom\u001B[39;00m \u001B[38;5;21;01mmatplotlib\u001B[39;00m \u001B[38;5;28;01mimport\u001B[39;00m pyplot \u001B[38;5;28;01mas\u001B[39;00m plt\n",
      "\u001B[0;31mModuleNotFoundError\u001B[0m: No module named 'cv2'"
     ]
    }
   ],
   "source": [
    "import cv2 as cv\n",
    "from skimage.io import imshow\n",
    "from matplotlib import pyplot as plt"
   ],
   "metadata": {
    "collapsed": false,
    "pycharm": {
     "name": "#%%\n"
    }
   }
  },
  {
   "cell_type": "code",
   "execution_count": null,
   "outputs": [],
   "source": [
    "original_img = cv.imread('/Users/abdelmasry/PycharmProjects/ImageProcessing/Task_2/iu.jpeg', 0)\n",
    "plt.figure()\n",
    "plt.axis('off')\n",
    "imshow(original_img)\n",
    "plt.show()"
   ],
   "metadata": {
    "collapsed": false,
    "pycharm": {
     "name": "#%%\n"
    }
   }
  },
  {
   "cell_type": "markdown",
   "source": [
    "*****Add salt & pepper noise to the given image*****"
   ],
   "metadata": {
    "collapsed": false,
    "pycharm": {
     "name": "#%% md\n"
    }
   }
  },
  {
   "cell_type": "code",
   "execution_count": null,
   "outputs": [],
   "source": [
    "import numpy as np\n",
    "import random\n",
    "import cv2\n",
    "\n",
    "def sp_noise(image,prob):\n",
    "    output = np.zeros(image.shape,np.uint8)\n",
    "    thres = 1 - prob\n",
    "    for i in range(image.shape[0]):\n",
    "        for j in range(image.shape[1]):\n",
    "            rdn = random.random()\n",
    "            if rdn < prob:\n",
    "                output[i][j] = 0\n",
    "            elif rdn > thres:\n",
    "                output[i][j] = 255\n",
    "            else:\n",
    "                output[i][j] = image[i][j]\n",
    "    return output\n",
    "\n",
    "noise_img = sp_noise(original_img,0.05)\n",
    "cv2.imwrite('/Users/abdelmasry/PycharmProjects/ImageProcessing/Task_2/sp_noise.jpg', noise_img)\n",
    "plt.figure()\n",
    "plt.axis('off')\n",
    "imshow(noise_img)\n",
    "plt.show()"
   ],
   "metadata": {
    "collapsed": false,
    "pycharm": {
     "name": "#%%\n"
    }
   }
  },
  {
   "cell_type": "markdown",
   "source": [],
   "metadata": {
    "collapsed": false,
    "pycharm": {
     "name": "#%% md\n"
    }
   }
  },
  {
   "cell_type": "markdown",
   "source": [
    "****Average Filter****"
   ],
   "metadata": {
    "collapsed": false,
    "pycharm": {
     "name": "#%% md\n"
    }
   }
  },
  {
   "cell_type": "code",
   "execution_count": null,
   "outputs": [],
   "source": [
    "print(\"****Average Filter****\")\n",
    "img_blur = cv2.blur(noise_img,(5,5))\n",
    "img_blur_2 = cv2.blur(noise_img,(4,4))\n",
    "img_blur_3 = cv2.blur(noise_img,(3,3))\n",
    "print(\"5 by 5: \")\n",
    "plt.figure()\n",
    "plt.axis('off')\n",
    "imshow(img_blur)\n",
    "plt.show()\n",
    "\n",
    "print(\"4 by 4: \")\n",
    "plt.figure()\n",
    "plt.axis('off')\n",
    "imshow(img_blur_2)\n",
    "plt.show()\n",
    "\n",
    "print(\"3 by 3: \")\n",
    "plt.figure()\n",
    "plt.axis('off')\n",
    "imshow(img_blur_3)\n",
    "plt.show()"
   ],
   "metadata": {
    "collapsed": false,
    "pycharm": {
     "name": "#%%\n"
    }
   }
  },
  {
   "cell_type": "markdown",
   "source": [
    "****Gaussian Filter****"
   ],
   "metadata": {
    "collapsed": false,
    "pycharm": {
     "name": "#%% md\n"
    }
   }
  },
  {
   "cell_type": "code",
   "execution_count": null,
   "outputs": [],
   "source": [
    "gaussian_blur = cv2.GaussianBlur(noise_img,(5,5),sigmaX=0)\n",
    "print(\"5 by 5: \")\n",
    "plt.figure()\n",
    "plt.axis('off')\n",
    "imshow(gaussian_blur)\n",
    "plt.show()\n",
    "\n",
    "gaussian_blur_3 = cv2.GaussianBlur(noise_img,(3,3),sigmaX=0)\n",
    "print(\"3 by 3: \")\n",
    "plt.figure()\n",
    "plt.axis('off')\n",
    "imshow(gaussian_blur_3)\n",
    "plt.show()\n"
   ],
   "metadata": {
    "collapsed": false,
    "pycharm": {
     "name": "#%%\n"
    }
   }
  },
  {
   "cell_type": "markdown",
   "source": [
    "****Median Filter****"
   ],
   "metadata": {
    "collapsed": false,
    "pycharm": {
     "name": "#%% md\n"
    }
   }
  },
  {
   "cell_type": "code",
   "execution_count": null,
   "outputs": [],
   "source": [
    "print(\"5 by 5\")\n",
    "image_median = cv2.medianBlur(noise_img,5)\n",
    "plt.figure()\n",
    "plt.axis('off')\n",
    "imshow(image_median)\n",
    "plt.show()\n",
    "print(\"3 by 3\")\n",
    "image_median_3 = cv2.medianBlur(noise_img,3)\n",
    "plt.figure()\n",
    "plt.axis('off')\n",
    "imshow(image_median_3)\n",
    "plt.show()\n",
    "\n",
    "print(\"Original image\")\n",
    "plt.figure()\n",
    "plt.axis('off')\n",
    "imshow(original_img)\n",
    "plt.show()\n"
   ],
   "metadata": {
    "collapsed": false,
    "pycharm": {
     "name": "#%%\n"
    }
   }
  },
  {
   "cell_type": "markdown",
   "source": [
    "****RANK ORDER WITH DIFFERENT RANKS****"
   ],
   "metadata": {
    "collapsed": false,
    "pycharm": {
     "name": "#%% md\n"
    }
   }
  },
  {
   "cell_type": "code",
   "execution_count": null,
   "outputs": [],
   "source": [
    "from PIL import Image, ImageFilter\n",
    "im1 = Image.open(r\"/Users/abdelmasry/PycharmProjects/ImageProcessing/Task_2/sp_noise.jpg\")\n",
    "\n",
    "rank_img_53 = im1.filter(ImageFilter.RankFilter(size = 5, rank = 3))\n",
    "rank_img_53.show()\n",
    "\n",
    "rank_img_73 = im1.filter(ImageFilter.RankFilter(size = 7, rank = 3))\n",
    "rank_img_73.show()\n",
    "\n",
    "rank_img_55 = im1.filter(ImageFilter.RankFilter(size = 5, rank = 5))\n",
    "rank_img_55.show()\n",
    "\n",
    "rank_img_75 = im1.filter(ImageFilter.RankFilter(size = 7, rank = 5))\n",
    "rank_img_75.show()\n",
    "\n",
    "rank_img_57 = im1.filter(ImageFilter.RankFilter(size = 5, rank = 7))\n",
    "rank_img_57.show()\n",
    "\n",
    "rank_img_77 = im1.filter(ImageFilter.RankFilter(size = 7, rank = 7))\n",
    "rank_img_77.show()\n",
    "\n",
    "rank_img_510 = im1.filter(ImageFilter.RankFilter(size = 5, rank = 10))\n",
    "rank_img_510.show()\n",
    "\n",
    "rank_img_710 = im1.filter(ImageFilter.RankFilter(size = 7, rank = 10))\n",
    "rank_img_710.show()"
   ],
   "metadata": {
    "collapsed": false,
    "pycharm": {
     "name": "#%%\n"
    }
   }
  },
  {
   "cell_type": "markdown",
   "source": [
    "Questions:\n",
    "\n",
    "1- Rank order filer (rank = 10) removes the noise in a better way than the other filters, because it clears the whole noise and also keeps the original information of the image or may be even enhance it.\n",
    "\n",
    "2- Increasing the window size has a great impact on the smoothed image, it reduces the noise gradually.\n",
    "\n",
    "3- In rank order filter, increasing the rank reduces the noise greatly in the image."
   ],
   "metadata": {
    "collapsed": false,
    "pycharm": {
     "name": "#%% md\n"
    }
   }
  }
 ],
 "metadata": {
  "kernelspec": {
   "display_name": "Python 3",
   "language": "python",
   "name": "python3"
  },
  "language_info": {
   "codemirror_mode": {
    "name": "ipython",
    "version": 2
   },
   "file_extension": ".py",
   "mimetype": "text/x-python",
   "name": "python",
   "nbconvert_exporter": "python",
   "pygments_lexer": "ipython2",
   "version": "2.7.6"
  }
 },
 "nbformat": 4,
 "nbformat_minor": 0
}