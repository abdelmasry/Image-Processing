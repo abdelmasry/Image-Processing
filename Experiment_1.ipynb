{
 "cells": [
  {
   "cell_type": "markdown",
   "source": [
    "EXPERIMENT#1"
   ],
   "metadata": {
    "collapsed": false,
    "pycharm": {
     "name": "#%% md\n"
    }
   }
  },
  {
   "cell_type": "markdown",
   "source": [
    "-choose an image with low contrast and work with it as gray image\n",
    "-Plot its histogram\n",
    "-Plot its cumulative histogram\n",
    "-Perform histogram equalization\n",
    "-Plot the modified image\n",
    "-Plot the modified image histogram\n",
    "-Plot the modified image cumulative histogram."
   ],
   "metadata": {
    "collapsed": false,
    "pycharm": {
     "name": "#%% md\n"
    }
   }
  },
  {
   "cell_type": "code",
   "execution_count": 1,
   "outputs": [],
   "source": [
    "import cv2 as cv\n",
    "from skimage.io import imread,imshow,imsave\n",
    "from matplotlib import pyplot as plt"
   ],
   "metadata": {
    "collapsed": false,
    "pycharm": {
     "name": "#%%\n"
    }
   }
  },
  {
   "cell_type": "markdown",
   "source": [
    "*****INPUTTING IMAGE*****"
   ],
   "metadata": {
    "collapsed": false,
    "pycharm": {
     "name": "#%% md\n"
    }
   }
  },
  {
   "cell_type": "code",
   "execution_count": 4,
   "outputs": [
    {
     "ename": "NameError",
     "evalue": "name 'cv' is not defined",
     "output_type": "error",
     "traceback": [
      "\u001B[0;31m---------------------------------------------------------------------------\u001B[0m",
      "\u001B[0;31mNameError\u001B[0m                                 Traceback (most recent call last)",
      "Input \u001B[0;32mIn [4]\u001B[0m, in \u001B[0;36m<cell line: 1>\u001B[0;34m()\u001B[0m\n\u001B[0;32m----> 1\u001B[0m img \u001B[38;5;241m=\u001B[39m \u001B[43mcv\u001B[49m\u001B[38;5;241m.\u001B[39mimread(\u001B[38;5;124m'\u001B[39m\u001B[38;5;124m/Users/abdelrahmanibrahim/Desktop/MASTER/Task_1/test.ppm.png\u001B[39m\u001B[38;5;124m'\u001B[39m,\u001B[38;5;241m0\u001B[39m)\n\u001B[1;32m      2\u001B[0m plt\u001B[38;5;241m.\u001B[39mfigure()\n\u001B[1;32m      3\u001B[0m plt\u001B[38;5;241m.\u001B[39maxis(\u001B[38;5;124m'\u001B[39m\u001B[38;5;124moff\u001B[39m\u001B[38;5;124m'\u001B[39m)\n",
      "\u001B[0;31mNameError\u001B[0m: name 'cv' is not defined"
     ]
    }
   ],
   "source": [
    "img = cv.imread('/Users/abdelrahmanibrahim/Desktop/MASTER/Task_1/test.ppm.png',0)\n",
    "plt.figure()\n",
    "plt.axis('off')\n",
    "imshow(img)\n",
    "plt.show()"
   ],
   "metadata": {
    "collapsed": false,
    "pycharm": {
     "name": "#%%\n"
    }
   }
  },
  {
   "cell_type": "markdown",
   "source": [
    "*****GRAY SCALE HISTOGRAM*****"
   ],
   "metadata": {
    "collapsed": false,
    "pycharm": {
     "name": "#%% md\n"
    }
   }
  },
  {
   "cell_type": "code",
   "execution_count": 5,
   "outputs": [
    {
     "data": {
      "text/plain": "<Figure size 432x288 with 1 Axes>",
      "image/png": "[encoded data removed]"
     },
     "metadata": {
      "needs_background": "light"
     },
     "output_type": "display_data"
    }
   ],
   "source": [
    "h = [(img==v).sum() for v in range(256)]\n",
    "\n",
    "plt.figure()\n",
    "plt.bar(range(256), h)\n",
    "plt.show()"
   ],
   "metadata": {
    "collapsed": false,
    "pycharm": {
     "name": "#%%\n"
    }
   }
  },
  {
   "cell_type": "markdown",
   "source": [
    "*****NORMALIZED HISTOGRAM*****"
   ],
   "metadata": {
    "collapsed": false,
    "pycharm": {
     "name": "#%% md\n"
    }
   }
  },
  {
   "cell_type": "code",
   "execution_count": 6,
   "outputs": [
    {
     "data": {
      "text/plain": "<Figure size 432x288 with 1 Axes>",
      "image/png": "[encoded data removed]"
     },
     "metadata": {
      "needs_background": "light"
     },
     "output_type": "display_data"
    }
   ],
   "source": [
    "import numpy as np\n",
    "\n",
    "h = np.array(h)\n",
    "norm_h = h/h.sum()\n",
    "\n",
    "plt.figure()\n",
    "plt.bar(range(256), norm_h)\n",
    "plt.show()"
   ],
   "metadata": {
    "collapsed": false,
    "pycharm": {
     "name": "#%%\n"
    }
   }
  },
  {
   "cell_type": "markdown",
   "source": [
    "*****CUMULATIVE HISTOGRAM*****"
   ],
   "metadata": {
    "collapsed": false,
    "pycharm": {
     "name": "#%% md\n"
    }
   }
  },
  {
   "cell_type": "code",
   "execution_count": 7,
   "outputs": [
    {
     "data": {
      "text/plain": "<Figure size 432x288 with 1 Axes>",
      "image/png": "[encoded data removed]"
     },
     "metadata": {
      "needs_background": "light"
     },
     "output_type": "display_data"
    }
   ],
   "source": [
    "cumul_h = np.zeros((256,))\n",
    "for i in range(256):\n",
    "    cumul_h[i] = norm_h[i]+cumul_h[i-1]\n",
    "\n",
    "plt.figure()\n",
    "plt.bar(range(256), cumul_h)\n",
    "plt.show()"
   ],
   "metadata": {
    "collapsed": false,
    "pycharm": {
     "name": "#%%\n"
    }
   }
  },
  {
   "cell_type": "markdown",
   "source": [
    "*****HISTOGRAM EQUALIZATION*****"
   ],
   "metadata": {
    "collapsed": false,
    "pycharm": {
     "name": "#%% md\n"
    }
   }
  },
  {
   "cell_type": "code",
   "execution_count": 9,
   "outputs": [
    {
     "name": "stderr",
     "output_type": "stream",
     "text": [
      "[ WARN:0@51.607] global /Users/runner/work/opencv-python/opencv-python/opencv/modules/imgcodecs/src/loadsave.cpp (239) findDecoder imread_('/Users/abdelmasry/PycharmProjects/ImageProcessing/Task_1/test.ppm.png'): can't open/read file: check file path/integrity\n"
     ]
    },
    {
     "ename": "error",
     "evalue": "OpenCV(4.5.5) :-1: error: (-5:Bad argument) in function 'imwrite'\n> Overload resolution failed:\n>  - img data type = 17 is not supported\n>  - Expected Ptr<cv::UMat> for argument 'img'\n",
     "output_type": "error",
     "traceback": [
      "\u001B[0;31m---------------------------------------------------------------------------\u001B[0m",
      "\u001B[0;31merror\u001B[0m                                     Traceback (most recent call last)",
      "Input \u001B[0;32mIn [9]\u001B[0m, in \u001B[0;36m<cell line: 6>\u001B[0;34m()\u001B[0m\n\u001B[1;32m      4\u001B[0m equ \u001B[38;5;241m=\u001B[39m cv\u001B[38;5;241m.\u001B[39mequalizeHist(img)\n\u001B[1;32m      5\u001B[0m res \u001B[38;5;241m=\u001B[39m np\u001B[38;5;241m.\u001B[39mhstack((img,equ)) \u001B[38;5;66;03m# stacking images side-by-side\u001B[39;00m\n\u001B[0;32m----> 6\u001B[0m \u001B[43mcv\u001B[49m\u001B[38;5;241;43m.\u001B[39;49m\u001B[43mimwrite\u001B[49m\u001B[43m(\u001B[49m\u001B[38;5;124;43m'\u001B[39;49m\u001B[38;5;124;43m/Users/abdelmasry/PycharmProjects/ImageProcessing/equalized.ppm.png\u001B[39;49m\u001B[38;5;124;43m'\u001B[39;49m\u001B[43m,\u001B[49m\u001B[43m \u001B[49m\u001B[43mres\u001B[49m\u001B[43m)\u001B[49m\n\u001B[1;32m      7\u001B[0m im \u001B[38;5;241m=\u001B[39m imread(\u001B[38;5;124m'\u001B[39m\u001B[38;5;124m/Users/abdelmasry/PycharmProjects/ImageProcessing/equalized.ppm.png\u001B[39m\u001B[38;5;124m'\u001B[39m)\n\u001B[1;32m      9\u001B[0m \u001B[38;5;28mprint\u001B[39m(Fore\u001B[38;5;241m.\u001B[39mGREEN\u001B[38;5;241m+\u001B[39m\u001B[38;5;124m\"\u001B[39m\u001B[38;5;124m1: Plot the modified image\u001B[39m\u001B[38;5;124m\"\u001B[39m)\n",
      "\u001B[0;31merror\u001B[0m: OpenCV(4.5.5) :-1: error: (-5:Bad argument) in function 'imwrite'\n> Overload resolution failed:\n>  - img data type = 17 is not supported\n>  - Expected Ptr<cv::UMat> for argument 'img'\n"
     ]
    }
   ],
   "source": [
    "from colorama import Fore\n",
    "\n",
    "img = cv.imread('/Users/abdelmasry/PycharmProjects/ImageProcessing/Task_1/test.ppm.png',0)\n",
    "equ = cv.equalizeHist(img)\n",
    "res = np.hstack((img,equ)) # stacking images side-by-side\n",
    "cv.imwrite('/Users/abdelmasry/PycharmProjects/ImageProcessing/equalized.ppm.png', res)\n",
    "im = imread('/Users/abdelmasry/PycharmProjects/ImageProcessing/equalized.ppm.png')\n",
    "\n",
    "print(Fore.GREEN+\"1: Plot the modified image\")\n",
    "plt.figure()\n",
    "plt.axis('off')\n",
    "imshow(im)\n",
    "plt.show()\n",
    "\n",
    "\n",
    "print(Fore.GREEN+\"2: Plot the modified image histogram\")\n",
    "h = [(equ==v).sum() for v in range(256)]\n",
    "plt.figure()\n",
    "plt.bar(range(256), h)\n",
    "plt.show()\n",
    "\n",
    "print(Fore.GREEN+\"3: Plot the modified image cumulative histogram\")\n",
    "h = np.array(h)\n",
    "norm_h = h/h.sum()\n",
    "\n",
    "cumul_h = np.zeros((256,))\n",
    "for i in range(256):\n",
    "    cumul_h[i] = norm_h[i]+cumul_h[i-1]\n",
    "\n",
    "plt.figure()\n",
    "plt.bar(range(256), cumul_h)\n",
    "plt.show()"
   ],
   "metadata": {
    "collapsed": false,
    "pycharm": {
     "name": "#%%\n"
    }
   }
  },
  {
   "cell_type": "code",
   "execution_count": null,
   "outputs": [],
   "source": [],
   "metadata": {
    "collapsed": false,
    "pycharm": {
     "name": "#%%\n"
    }
   }
  }
 ],
 "metadata": {
  "kernelspec": {
   "display_name": "Python 3",
   "language": "python",
   "name": "python3"
  },
  "language_info": {
   "codemirror_mode": {
    "name": "ipython",
    "version": 2
   },
   "file_extension": ".py",
   "mimetype": "text/x-python",
   "name": "python",
   "nbconvert_exporter": "python",
   "pygments_lexer": "ipython2",
   "version": "2.7.6"
  }
 },
 "nbformat": 4,
 "nbformat_minor": 0
}