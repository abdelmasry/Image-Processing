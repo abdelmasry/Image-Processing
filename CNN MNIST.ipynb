{
 "cells": [
  {
   "cell_type": "markdown",
   "source": [
    "*****CNN trained for MNIST handwritten digit classification*****"
   ],
   "metadata": {
    "collapsed": false,
    "pycharm": {
     "name": "#%% md\n"
    }
   }
  },
  {
   "cell_type": "markdown",
   "source": [
    "1- Use any CNN trained for MNIST handwritten digit classification (that classify between the digits from 0 to 9).\n",
    "2- After training the model, evaluate it using the testing data and get the predicted class of the testing image samples.\n",
    "3- By comparing the predicted class labels with the actual class labels (Ground Truth), build the Confusion Matrix of the ten classes (digits from 0 to 9).\n",
    "4- For each class (digit):\n",
    "Calculate the precision, recall, F1 score."
   ],
   "metadata": {
    "collapsed": false,
    "pycharm": {
     "name": "#%% md\n"
    }
   }
  },
  {
   "cell_type": "markdown",
   "source": [
    "*****IMPORTING*****"
   ],
   "metadata": {
    "collapsed": false,
    "pycharm": {
     "name": "#%% md\n"
    }
   }
  },
  {
   "cell_type": "code",
   "execution_count": 1,
   "outputs": [],
   "source": [
    "from keras.models import Sequential\n",
    "from keras.layers import Dense\n",
    "from tensorflow.keras.utils import to_categorical\n",
    "from keras.layers.convolutional import Conv2D  # to add convolutional layers\n",
    "from keras.layers.convolutional import MaxPooling2D  # to add pooling layers\n",
    "from keras.layers import Flatten  # to flatten data for fully connected layers\n",
    "import itertools\n",
    "import numpy as np\n",
    "from matplotlib import pyplot as plt\n",
    "from sklearn.metrics import confusion_matrix"
   ],
   "metadata": {
    "collapsed": false,
    "pycharm": {
     "name": "#%%\n"
    }
   }
  },
  {
   "cell_type": "markdown",
   "source": [
    "*****LOADING DATA*****"
   ],
   "metadata": {
    "collapsed": false,
    "pycharm": {
     "name": "#%% md\n"
    }
   }
  },
  {
   "cell_type": "code",
   "execution_count": 2,
   "outputs": [],
   "source": [
    "# import data\n",
    "from keras.datasets import mnist\n",
    "\n",
    "# load data\n",
    "(X_train, y_train), (X_test, y_test) = mnist.load_data()\n",
    "\n",
    "# reshape to be [samples][pixels][width][height]\n",
    "X_train = X_train.reshape(X_train.shape[0], 28, 28, 1).astype('float32')\n",
    "X_test = X_test.reshape(X_test.shape[0], 28, 28, 1).astype('float32')"
   ],
   "metadata": {
    "collapsed": false,
    "pycharm": {
     "name": "#%%\n"
    }
   }
  },
  {
   "cell_type": "code",
   "execution_count": 3,
   "outputs": [],
   "source": [
    "X_train = X_train / 255  # normalize training data\n",
    "X_test = X_test / 255  # normalize test data\n",
    "y_train = to_categorical(y_train)\n",
    "y_test = to_categorical(y_test)\n",
    "\n",
    "num_classes = y_test.shape[1]  # number of categories"
   ],
   "metadata": {
    "collapsed": false,
    "pycharm": {
     "name": "#%%\n"
    }
   }
  },
  {
   "cell_type": "markdown",
   "source": [
    "*****BUILDING MODEL*****"
   ],
   "metadata": {
    "collapsed": false,
    "pycharm": {
     "name": "#%% md\n"
    }
   }
  },
  {
   "cell_type": "code",
   "execution_count": 4,
   "outputs": [],
   "source": [
    "def convolutional_model():\n",
    "    # create model\n",
    "    model = Sequential()\n",
    "    model.add(Conv2D(16, (5, 5), strides=(1, 1), activation='relu', input_shape=(28, 28, 1)))\n",
    "    model.add(MaxPooling2D(pool_size=(2, 2), strides=(2, 2)))\n",
    "\n",
    "    model.add(Flatten())\n",
    "    model.add(Dense(100, activation='relu'))\n",
    "    model.add(Dense(num_classes, activation='softmax'))\n",
    "\n",
    "    # compile model\n",
    "    model.compile(optimizer='adam', loss='categorical_crossentropy', metrics=['accuracy'])\n",
    "    return model"
   ],
   "metadata": {
    "collapsed": false,
    "pycharm": {
     "name": "#%%\n"
    }
   }
  },
  {
   "cell_type": "code",
   "execution_count": 5,
   "outputs": [
    {
     "name": "stderr",
     "output_type": "stream",
     "text": [
      "2022-05-31 16:25:06.326093: W tensorflow/core/platform/profile_utils/cpu_utils.cc:128] Failed to get CPU frequency: 0 Hz\n"
     ]
    },
    {
     "name": "stdout",
     "output_type": "stream",
     "text": [
      "Epoch 1/20\n",
      "1875/1875 - 6s - loss: 0.1539 - accuracy: 0.9550 - val_loss: 0.0604 - val_accuracy: 0.9810 - 6s/epoch - 3ms/step\n",
      "Epoch 2/20\n",
      "1875/1875 - 6s - loss: 0.0538 - accuracy: 0.9831 - val_loss: 0.0520 - val_accuracy: 0.9836 - 6s/epoch - 3ms/step\n",
      "Epoch 3/20\n",
      "1875/1875 - 6s - loss: 0.0366 - accuracy: 0.9884 - val_loss: 0.0365 - val_accuracy: 0.9875 - 6s/epoch - 3ms/step\n",
      "Epoch 4/20\n",
      "1875/1875 - 6s - loss: 0.0253 - accuracy: 0.9921 - val_loss: 0.0356 - val_accuracy: 0.9883 - 6s/epoch - 3ms/step\n",
      "Epoch 5/20\n",
      "1875/1875 - 5s - loss: 0.0179 - accuracy: 0.9944 - val_loss: 0.0405 - val_accuracy: 0.9875 - 5s/epoch - 3ms/step\n",
      "Epoch 6/20\n",
      "1875/1875 - 5s - loss: 0.0127 - accuracy: 0.9957 - val_loss: 0.0432 - val_accuracy: 0.9879 - 5s/epoch - 3ms/step\n",
      "Epoch 7/20\n",
      "1875/1875 - 6s - loss: 0.0097 - accuracy: 0.9969 - val_loss: 0.0451 - val_accuracy: 0.9876 - 6s/epoch - 3ms/step\n",
      "Epoch 8/20\n",
      "1875/1875 - 6s - loss: 0.0084 - accuracy: 0.9973 - val_loss: 0.0465 - val_accuracy: 0.9872 - 6s/epoch - 3ms/step\n",
      "Epoch 9/20\n",
      "1875/1875 - 6s - loss: 0.0063 - accuracy: 0.9981 - val_loss: 0.0432 - val_accuracy: 0.9881 - 6s/epoch - 3ms/step\n",
      "Epoch 10/20\n",
      "1875/1875 - 6s - loss: 0.0062 - accuracy: 0.9979 - val_loss: 0.0510 - val_accuracy: 0.9881 - 6s/epoch - 3ms/step\n",
      "Epoch 11/20\n",
      "1875/1875 - 5s - loss: 0.0050 - accuracy: 0.9982 - val_loss: 0.0516 - val_accuracy: 0.9875 - 5s/epoch - 3ms/step\n",
      "Epoch 12/20\n",
      "1875/1875 - 6s - loss: 0.0045 - accuracy: 0.9984 - val_loss: 0.0563 - val_accuracy: 0.9878 - 6s/epoch - 3ms/step\n",
      "Epoch 13/20\n",
      "1875/1875 - 6s - loss: 0.0042 - accuracy: 0.9985 - val_loss: 0.0590 - val_accuracy: 0.9873 - 6s/epoch - 3ms/step\n",
      "Epoch 14/20\n",
      "1875/1875 - 6s - loss: 0.0033 - accuracy: 0.9989 - val_loss: 0.0675 - val_accuracy: 0.9866 - 6s/epoch - 3ms/step\n",
      "Epoch 15/20\n",
      "1875/1875 - 5s - loss: 0.0036 - accuracy: 0.9987 - val_loss: 0.0690 - val_accuracy: 0.9861 - 5s/epoch - 3ms/step\n",
      "Epoch 16/20\n",
      "1875/1875 - 6s - loss: 0.0032 - accuracy: 0.9990 - val_loss: 0.0706 - val_accuracy: 0.9858 - 6s/epoch - 3ms/step\n",
      "Epoch 17/20\n",
      "1875/1875 - 6s - loss: 0.0020 - accuracy: 0.9993 - val_loss: 0.0656 - val_accuracy: 0.9877 - 6s/epoch - 3ms/step\n",
      "Epoch 18/20\n",
      "1875/1875 - 6s - loss: 0.0028 - accuracy: 0.9991 - val_loss: 0.0578 - val_accuracy: 0.9892 - 6s/epoch - 3ms/step\n",
      "Epoch 19/20\n",
      "1875/1875 - 6s - loss: 0.0032 - accuracy: 0.9989 - val_loss: 0.0781 - val_accuracy: 0.9875 - 6s/epoch - 3ms/step\n",
      "Epoch 20/20\n",
      "1875/1875 - 6s - loss: 0.0028 - accuracy: 0.9991 - val_loss: 0.0744 - val_accuracy: 0.9869 - 6s/epoch - 3ms/step\n",
      "Accuracy: 0.9868999719619751 \n",
      " Error: 1.3100028038024902\n"
     ]
    }
   ],
   "source": [
    "# build the model\n",
    "model = convolutional_model()\n",
    "\n",
    "# fit the model\n",
    "model.fit(X_train, y_train, validation_data=(X_test, y_test), epochs=20, verbose=2)\n",
    "\n",
    "# evaluate the model\n",
    "scores = model.evaluate(X_test, y_test, verbose=0)\n",
    "print(\"Accuracy: {} \\n Error: {}\".format(scores[1], 100 - scores[1] * 100))\n"
   ],
   "metadata": {
    "collapsed": false,
    "pycharm": {
     "name": "#%%\n"
    }
   }
  },
  {
   "cell_type": "markdown",
   "source": [
    "*****SAMPLES OF PREDICTED DATA*****"
   ],
   "metadata": {
    "collapsed": false,
    "pycharm": {
     "name": "#%% md\n"
    }
   }
  },
  {
   "cell_type": "code",
   "execution_count": 6,
   "outputs": [
    {
     "data": {
      "text/plain": "<Figure size 432x288 with 1 Axes>",
      "image/png": "[encoded data removed]"
     },
     "metadata": {},
     "output_type": "display_data"
    },
    {
     "data": {
      "text/plain": "<Figure size 432x288 with 1 Axes>",
      "image/png": "[encoded data removed]"
     },
     "metadata": {},
     "output_type": "display_data"
    },
    {
     "data": {
      "text/plain": "<Figure size 432x288 with 1 Axes>",
      "image/png": "[encoded data removed]"
     },
     "metadata": {},
     "output_type": "display_data"
    },
    {
     "data": {
      "text/plain": "<Figure size 432x288 with 1 Axes>",
      "image/png": "[encoded data removed]"
     },
     "metadata": {},
     "output_type": "display_data"
    },
    {
     "data": {
      "text/plain": "<Figure size 432x288 with 1 Axes>",
      "image/png": "[encoded data removed]"
     },
     "metadata": {},
     "output_type": "display_data"
    },
    {
     "data": {
      "text/plain": "<Figure size 432x288 with 1 Axes>",
      "image/png": "[encoded data removed]"
     },
     "metadata": {},
     "output_type": "display_data"
    }
   ],
   "source": [
    "\n",
    "# Predict the values from the validation dataset\n",
    "Y_pred = model.predict(X_test)\n",
    "# Convert predictions classes to one hot vectors\n",
    "Y_pred_classes = np.argmax(Y_pred, axis=1)\n",
    "# Convert validation observations to one hot vectors\n",
    "Y_true = np.argmax(y_test, axis=1)\n",
    "\n",
    "errors = (Y_pred_classes - Y_true != 0)\n",
    "Y_pred_classes_errors = Y_pred_classes[errors]\n",
    "Y_pred_errors = Y_pred[errors]\n",
    "Y_true_errors = Y_true[errors]\n",
    "X_val_errors = X_test[errors]\n",
    "\n",
    "\n",
    "def display_errors(errors_index, img_errors, pred_errors, obs_errors):\n",
    "    n = 0\n",
    "    while n < 6:\n",
    "        fig, ax = plt.subplots(sharex=True, sharey=True, squeeze=True)\n",
    "        error = errors_index[n]\n",
    "        ax.imshow((img_errors[error]).reshape((28, 28)))\n",
    "        ax.set_title(\"Predicted label :{}\\nTrue label :{}\\n\".format(pred_errors[error], obs_errors[error]))\n",
    "        n += 1\n",
    "\n",
    "\n",
    "# Probabilities of the wrong predicted numbers\n",
    "Y_pred_errors_prob = np.max(Y_pred_errors, axis=1)\n",
    "\n",
    "# Predicted probabilities of the true values in the error set\n",
    "true_prob_errors = np.diagonal(np.take(Y_pred_errors, Y_true_errors, axis=1))\n",
    "\n",
    "# Difference between the probability of the predicted label and the true label\n",
    "delta_pred_true_errors = Y_pred_errors_prob - true_prob_errors\n",
    "\n",
    "# Sorted list of the delta prob errors\n",
    "sorted_dela_errors = np.argsort(delta_pred_true_errors)\n",
    "\n",
    "# Top 6 errors\n",
    "most_important_errors = sorted_dela_errors[-6:]\n",
    "\n",
    "# Show the top 6 errors\n",
    "display_errors(most_important_errors, X_val_errors, Y_pred_classes_errors, Y_true_errors)\n"
   ],
   "metadata": {
    "collapsed": false,
    "pycharm": {
     "name": "#%%\n"
    }
   }
  },
  {
   "cell_type": "markdown",
   "source": [
    "*****CONFUSION MATRIX*****"
   ],
   "metadata": {
    "collapsed": false,
    "pycharm": {
     "name": "#%% md\n"
    }
   }
  },
  {
   "cell_type": "code",
   "execution_count": 7,
   "outputs": [
    {
     "name": "stderr",
     "output_type": "stream",
     "text": [
      "/var/folders/ks/m0btnx4d7j38phjw29dfybvw0000gn/T/ipykernel_4939/3683056058.py:7: MatplotlibDeprecationWarning: Auto-removal of grids by pcolor() and pcolormesh() is deprecated since 3.5 and will be removed two minor releases later; please call grid(False) first.\n",
      "  plt.colorbar()\n"
     ]
    },
    {
     "data": {
      "text/plain": "<Figure size 432x288 with 2 Axes>",
      "image/png": "[encoded data removed]"
     },
     "metadata": {},
     "output_type": "display_data"
    }
   ],
   "source": [
    "def plot_confusion_matrix(cm, classes,\n",
    "                          normalize=False,\n",
    "                          title='Confusion matrix',\n",
    "                          cmap=plt.cm.BuPu):\n",
    "    plt.imshow(cm, interpolation='nearest', cmap=cmap)\n",
    "    plt.title(title)\n",
    "    plt.colorbar()\n",
    "    tick_marks = np.arange(len(classes))\n",
    "    plt.xticks(tick_marks, classes, rotation=45)\n",
    "    plt.yticks(tick_marks, classes)\n",
    "\n",
    "    if normalize:\n",
    "        cm = cm.astype('float') / cm.sum(axis=1)[:, np.newaxis]\n",
    "\n",
    "    thresh = cm.max() / 2.\n",
    "    for i, j in itertools.product(range(cm.shape[0]), range(cm.shape[1])):\n",
    "        plt.text(j, i, cm[i, j],\n",
    "                 horizontalalignment=\"center\",\n",
    "                 color=\"white\" if cm[i, j] > thresh else \"black\")\n",
    "\n",
    "    plt.ylabel('True label')\n",
    "    plt.xlabel('Predicted label')\n",
    "\n",
    "\n",
    "# compute the confusion matrix\n",
    "confusion_mtx = confusion_matrix(Y_true, Y_pred_classes)\n",
    "# plot the confusion matrix\n",
    "plot_confusion_matrix(confusion_mtx, classes=range(10))"
   ],
   "metadata": {
    "collapsed": false,
    "pycharm": {
     "name": "#%%\n"
    }
   }
  },
  {
   "cell_type": "markdown",
   "source": [
    "*****METRICS FOR EACH CLASS*****"
   ],
   "metadata": {
    "collapsed": false,
    "pycharm": {
     "name": "#%% md\n"
    }
   }
  },
  {
   "cell_type": "code",
   "execution_count": 8,
   "outputs": [
    {
     "name": "stdout",
     "output_type": "stream",
     "text": [
      "Class#0\n",
      "Precision: 0.9703\n",
      "Recall: 0.999\n",
      "F1_score: 0.9844\n",
      "Class#1\n",
      "Precision: 0.993\n",
      "Recall: 0.993\n",
      "F1_score: 0.993\n",
      "Class#2\n",
      "Precision: 0.9941\n",
      "Recall: 0.9826\n",
      "F1_score: 0.9883\n",
      "Class#3\n",
      "Precision: 0.9881\n",
      "Recall: 0.9901\n",
      "F1_score: 0.9891\n",
      "Class#4\n",
      "Precision: 0.9918\n",
      "Recall: 0.9878\n",
      "F1_score: 0.9898\n",
      "Class#5\n",
      "Precision: 0.9833\n",
      "Recall: 0.9888\n",
      "F1_score: 0.986\n",
      "Class#6\n",
      "Precision: 0.9968\n",
      "Recall: 0.9843\n",
      "F1_score: 0.9905\n",
      "Class#7\n",
      "Precision: 0.9835\n",
      "Recall: 0.9864\n",
      "F1_score: 0.9849\n",
      "Class#8\n",
      "Precision: 0.9947\n",
      "Recall: 0.9723\n",
      "F1_score: 0.9834\n",
      "Class#9\n",
      "Precision: 0.9735\n",
      "Recall: 0.9841\n",
      "F1_score: 0.9788\n"
     ]
    }
   ],
   "source": [
    "for i in range(len(confusion_mtx)):\n",
    "    print(\"Class#{}\".format(i))\n",
    "    fp = 0\n",
    "    fn = 0\n",
    "    tp = confusion_mtx[i][i]\n",
    "    for x in range(len(confusion_mtx)):\n",
    "        if confusion_mtx[x][i] != confusion_mtx[i][i]:\n",
    "            fp += confusion_mtx[x][i]\n",
    "    for y in range(len(confusion_mtx)):\n",
    "        if confusion_mtx[i][y] != confusion_mtx[i][i]:\n",
    "            fn += confusion_mtx[i][y]\n",
    "    Precision = tp / (tp + fp)\n",
    "    Recall = tp / (tp + fn)\n",
    "    F1_score = 2 * Precision * Recall / (Precision + Recall)\n",
    "    print(\"Precision:\",round(Precision, 4))\n",
    "    print(\"Recall:\",round(Recall, 4))\n",
    "    print(\"F1_score:\",round(F1_score, 4))"
   ],
   "metadata": {
    "collapsed": false,
    "pycharm": {
     "name": "#%%\n"
    }
   }
  }
 ],
 "metadata": {
  "kernelspec": {
   "display_name": "Python 3",
   "language": "python",
   "name": "python3"
  },
  "language_info": {
   "codemirror_mode": {
    "name": "ipython",
    "version": 2
   },
   "file_extension": ".py",
   "mimetype": "text/x-python",
   "name": "python",
   "nbconvert_exporter": "python",
   "pygments_lexer": "ipython2",
   "version": "2.7.6"
  }
 },
 "nbformat": 4,
 "nbformat_minor": 0
}