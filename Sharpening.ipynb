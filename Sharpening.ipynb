{
 "cells": [
  {
   "cell_type": "markdown",
   "source": [
    "IMAGE SHARPENING"
   ],
   "metadata": {
    "collapsed": false,
    "pycharm": {
     "name": "#%% md\n"
    }
   }
  },
  {
   "cell_type": "markdown",
   "source": [
    "Using any gray scale image:\n",
    "- Apply different sharpening filters (Perwitt, Sobel, laplacian, log)."
   ],
   "metadata": {
    "collapsed": false,
    "pycharm": {
     "name": "#%% md\n"
    }
   }
  },
  {
   "cell_type": "code",
   "execution_count": 2,
   "outputs": [
    {
     "ename": "ModuleNotFoundError",
     "evalue": "No module named 'cv2'",
     "output_type": "error",
     "traceback": [
      "\u001B[0;31m---------------------------------------------------------------------------\u001B[0m",
      "\u001B[0;31mModuleNotFoundError\u001B[0m                       Traceback (most recent call last)",
      "Input \u001B[0;32mIn [2]\u001B[0m, in \u001B[0;36m<module>\u001B[0;34m\u001B[0m\n\u001B[0;32m----> 1\u001B[0m \u001B[38;5;28;01mimport\u001B[39;00m \u001B[38;5;21;01mcv2\u001B[39;00m \u001B[38;5;28;01mas\u001B[39;00m \u001B[38;5;21;01mcv\u001B[39;00m\n\u001B[1;32m      2\u001B[0m \u001B[38;5;28;01mfrom\u001B[39;00m \u001B[38;5;21;01mskimage\u001B[39;00m\u001B[38;5;21;01m.\u001B[39;00m\u001B[38;5;21;01mio\u001B[39;00m \u001B[38;5;28;01mimport\u001B[39;00m imshow\n\u001B[1;32m      3\u001B[0m \u001B[38;5;28;01mfrom\u001B[39;00m \u001B[38;5;21;01mmatplotlib\u001B[39;00m \u001B[38;5;28;01mimport\u001B[39;00m pyplot \u001B[38;5;28;01mas\u001B[39;00m plt\n",
      "\u001B[0;31mModuleNotFoundError\u001B[0m: No module named 'cv2'"
     ]
    }
   ],
   "source": [
    "import cv2 as cv\n",
    "from skimage.io import imshow\n",
    "from matplotlib import pyplot as plt"
   ],
   "metadata": {
    "collapsed": false,
    "pycharm": {
     "name": "#%%\n"
    }
   }
  },
  {
   "cell_type": "code",
   "execution_count": null,
   "outputs": [],
   "source": [
    "original_img = cv.imread('/Users/abdelmasry/PycharmProjects/ImageProcessing/Task_2/960x0.jpg', 0)\n",
    "plt.figure()\n",
    "plt.axis('off')\n",
    "imshow(original_img)\n",
    "plt.show()"
   ],
   "metadata": {
    "collapsed": false,
    "pycharm": {
     "name": "#%%\n"
    }
   }
  },
  {
   "cell_type": "markdown",
   "source": [
    "*****PERWITT FILTER*****"
   ],
   "metadata": {
    "collapsed": false,
    "pycharm": {
     "name": "#%% md\n"
    }
   }
  },
  {
   "cell_type": "code",
   "execution_count": null,
   "outputs": [],
   "source": [
    "import numpy as np\n",
    "\n",
    "perwitt_dy = np.array([[-1,-1,-1], [0,0,0], [1,1,1]])\n",
    "perwitt_dx = np.array([[-1,0,1], [-1,0,1], [-1,0,1]])\n",
    "\n",
    "dy = cv.filter2D(original_img, 0, perwitt_dy)\n",
    "perwitt = cv.filter2D(dy,0,perwitt_dx)\n",
    "plt.figure()\n",
    "plt.axis('off')\n",
    "imshow(perwitt)\n",
    "plt.show()"
   ],
   "metadata": {
    "collapsed": false,
    "pycharm": {
     "name": "#%%\n"
    }
   }
  },
  {
   "cell_type": "markdown",
   "source": [
    "*****SOBEL FILTER*****"
   ],
   "metadata": {
    "collapsed": false,
    "pycharm": {
     "name": "#%% md\n"
    }
   }
  },
  {
   "cell_type": "code",
   "execution_count": null,
   "outputs": [],
   "source": [
    "sobel_dy = np.array([[-1,-2,-1],[0,0,0],[1,2,1]])\n",
    "sobel_dx = np.array([[-1,0,1],[-2,0,2],[-1,0,1]])\n",
    "dy = cv.filter2D(original_img,0,sobel_dy)\n",
    "sobel = cv.filter2D(dy,-1,sobel_dx)\n",
    "plt.figure()\n",
    "plt.axis('off')\n",
    "imshow(sobel)\n",
    "plt.show()"
   ],
   "metadata": {
    "collapsed": false,
    "pycharm": {
     "name": "#%%\n"
    }
   }
  },
  {
   "cell_type": "markdown",
   "source": [
    "*****LAPLACIAN FILTER*****"
   ],
   "metadata": {
    "collapsed": false,
    "pycharm": {
     "name": "#%% md\n"
    }
   }
  },
  {
   "cell_type": "code",
   "execution_count": null,
   "outputs": [],
   "source": [
    "laplacian_kernel = np.array([[0,1,0],[1,-4,1],[0,1,0]])\n",
    "laplacian = cv.filter2D(original_img,0,laplacian_kernel)\n",
    "plt.figure()\n",
    "plt.axis('off')\n",
    "imshow(laplacian)\n",
    "plt.show()"
   ],
   "metadata": {
    "collapsed": false,
    "pycharm": {
     "name": "#%%\n"
    }
   }
  },
  {
   "cell_type": "markdown",
   "source": [
    "*****LAPLACIAN OF GUASSIAN FILTER*****"
   ],
   "metadata": {
    "collapsed": false,
    "pycharm": {
     "name": "#%% md\n"
    }
   }
  },
  {
   "cell_type": "code",
   "execution_count": null,
   "outputs": [],
   "source": [
    "guassian = cv.GaussianBlur(original_img,(3,3),0)\n",
    "laplacian = cv.Laplacian(guassian,0)\n",
    "LOG = laplacian/laplacian.max()\n",
    "\n",
    "plt.figure()\n",
    "plt.axis('off')\n",
    "imshow(LOG)\n",
    "plt.show()"
   ],
   "metadata": {
    "collapsed": false,
    "pycharm": {
     "name": "#%%\n"
    }
   }
  }
 ],
 "metadata": {
  "kernelspec": {
   "display_name": "Python 3",
   "language": "python",
   "name": "python3"
  },
  "language_info": {
   "codemirror_mode": {
    "name": "ipython",
    "version": 2
   },
   "file_extension": ".py",
   "mimetype": "text/x-python",
   "name": "python",
   "nbconvert_exporter": "python",
   "pygments_lexer": "ipython2",
   "version": "2.7.6"
  }
 },
 "nbformat": 4,
 "nbformat_minor": 0
}